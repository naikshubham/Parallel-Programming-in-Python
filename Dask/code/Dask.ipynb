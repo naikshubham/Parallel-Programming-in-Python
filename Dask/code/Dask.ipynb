{
 "cells": [
  {
   "cell_type": "markdown",
   "metadata": {},
   "source": [
    "### How big is my DataFrame?\n",
    "`df.info()` , `df.memory_usage()`"
   ]
  },
  {
   "cell_type": "markdown",
   "metadata": {},
   "source": [
    "### NumPy transformations\n",
    "- Many NumPy transformations, while fast, use one or more temporary arrays. Therefore, those transformations require more storage than the original array required.\n",
    "- The function memory_footprint() has been provided to return the total amount of memory (in megabytes or MB) currently in use by our program. This function uses the psutil and os modules."
   ]
  },
  {
   "cell_type": "code",
   "execution_count": 20,
   "metadata": {},
   "outputs": [],
   "source": [
    "import numpy as np\n",
    "from dask import delayed\n",
    "import psutil, os\n",
    "import matplotlib.pyplot as plt\n",
    "# from glob import glob\n",
    "import glob\n",
    "import pandas as pd\n",
    "import time\n",
    "import dask.dataframe as dd\n",
    "\n",
    "def memory_footprint():\n",
    "    '''Returns memory (in MB) being used by Python process'''\n",
    "    mem = psutil.Process(os.getpid()).memory_info().rss\n",
    "    return (mem / 1024 **2)"
   ]
  },
  {
   "cell_type": "code",
   "execution_count": 7,
   "metadata": {},
   "outputs": [
    {
     "name": "stdout",
     "output_type": "stream",
     "text": [
      "50.0\n",
      "50.00390625\n"
     ]
    }
   ],
   "source": [
    "N = (1024 **2) //8 # number of floats that fill 1 MB\n",
    "celsius = np.random.randn(50 * N) # Random array filling 50MB\n",
    "\n",
    "# Print the size in MB of the celsius array\n",
    "print(celsius.nbytes / 1024**2)\n",
    "\n",
    "# Call memory_footprint(): before\n",
    "before = memory_footprint()\n",
    "\n",
    "# Convert celsius by multiplying by 9/5 and adding 32: fahrenheit\n",
    "fahrenheit = celsius * 9/5 + 32\n",
    "\n",
    "# Call memory_footprint(): after\n",
    "after = memory_footprint()\n",
    "\n",
    "# Print the difference between after and before\n",
    "print(after - before)"
   ]
  },
  {
   "cell_type": "markdown",
   "metadata": {},
   "source": [
    "### Computing percentage of delayed flights\n",
    "- build a function to compute the percentage of delayed flights given a DataFrame of flight information. \n"
   ]
  },
  {
   "cell_type": "code",
   "execution_count": 8,
   "metadata": {},
   "outputs": [],
   "source": [
    "# Define function with single input called df: pct_delayed\n",
    "def pct_delayed(df):\n",
    "    # Compute number of delayed flights: n_delayed\n",
    "    n_delayed = (df['DEP_DELAY'] > 0).sum()\n",
    "    # Return percentage of delayed flights\n",
    "    return n_delayed  * 100 / len(df)\n"
   ]
  },
  {
   "cell_type": "markdown",
   "metadata": {},
   "source": [
    "### Generating & plotting delayed flights"
   ]
  },
  {
   "cell_type": "code",
   "execution_count": 9,
   "metadata": {},
   "outputs": [
    {
     "data": {
      "image/png": "[encoded data removed]",
      "text/plain": [
       "<Figure size 432x288 with 1 Axes>"
      ]
     },
     "metadata": {
      "needs_background": "light"
     },
     "output_type": "display_data"
    }
   ],
   "source": [
    "# Define the generator: dataframes\n",
    "filenames = glob.glob('../data/flightdelays/*.csv')\n",
    "dataframes = (pd.read_csv(file) for file in filenames)\n",
    "\n",
    "# Create the list comprehension: monthly_delayed\n",
    "monthly_delayed = [pct_delayed(df) for df in dataframes]\n",
    "\n",
    "# Create the plot\n",
    "x = range(1,6)\n",
    "plt.plot(x, monthly_delayed, marker='o', linewidth=0)\n",
    "plt.ylabel('% Delayed')\n",
    "plt.xlabel('Month - 2016')\n",
    "plt.xlim((1,6))\n",
    "plt.ylim((0,100))\n",
    "plt.show()"
   ]
  },
  {
   "cell_type": "markdown",
   "metadata": {},
   "source": [
    "### Building a pipeline with delayed\n",
    "- If we use `dask.delayed`, we don't need to use generators; the dask scheduler will manage memory usage.\n",
    "- **Task** : define three decorated functions to complete the pipeline: a function to total the number of flights, a function to count the number of delayed flights, and a function to aggregate the results."
   ]
  },
  {
   "cell_type": "code",
   "execution_count": 10,
   "metadata": {},
   "outputs": [],
   "source": [
    "from dask import delayed\n",
    "import os \n",
    "import glob\n",
    "import pandas as pd"
   ]
  },
  {
   "cell_type": "code",
   "execution_count": 11,
   "metadata": {},
   "outputs": [],
   "source": [
    "# Define count_flights\n",
    "@delayed\n",
    "def count_flights(df):\n",
    "    return len(df)\n",
    "\n",
    "# Define count_delayed\n",
    "@delayed\n",
    "def count_delayed(df):\n",
    "    return (df['DEP_DELAY']>0).sum()\n",
    "\n",
    "# Define pct_delayed\n",
    "@delayed\n",
    "def pct_delayed(n_delayed, n_flights):\n",
    "    return 100 * sum(n_delayed) / sum(n_flights)"
   ]
  },
  {
   "cell_type": "markdown",
   "metadata": {},
   "source": [
    "- These functions constitute the pieces of the pipeline for our flight-delay analysis"
   ]
  },
  {
   "cell_type": "markdown",
   "metadata": {},
   "source": [
    "### Computing pipelined results\n",
    "- Now that the dask.delayed functions are defined, we can use them to construct the pipeline of delayed tasks.\n",
    "-  loop over the file names, store the temporary information in lists, and aggregate the final result.\n",
    "- The distinction here is that we are working with `dask.delayed` functions and objects, not real, computed values. The computation will only be executed when we call `.compute()` on the final result."
   ]
  },
  {
   "cell_type": "code",
   "execution_count": 12,
   "metadata": {},
   "outputs": [
    {
     "data": {
      "text/plain": [
       "['../data/flightdelays\\\\flightdelays-2016-1.csv',\n",
       " '../data/flightdelays\\\\flightdelays-2016-2.csv',\n",
       " '../data/flightdelays\\\\flightdelays-2016-3.csv',\n",
       " '../data/flightdelays\\\\flightdelays-2016-4.csv',\n",
       " '../data/flightdelays\\\\flightdelays-2016-5.csv']"
      ]
     },
     "execution_count": 12,
     "metadata": {},
     "output_type": "execute_result"
    }
   ],
   "source": [
    "filenames = glob.glob('../data/flightdelays/*.csv')\n",
    "filenames"
   ]
  },
  {
   "cell_type": "code",
   "execution_count": 13,
   "metadata": {},
   "outputs": [
    {
     "name": "stdout",
     "output_type": "stream",
     "text": [
      "32.406252934201824\n"
     ]
    }
   ],
   "source": [
    "n_delayed = []\n",
    "n_flights = []\n",
    "# Loop over the provided filenames list and call read_one: df\n",
    "for file in filenames:\n",
    "    df = pd.read_csv(file)\n",
    "\n",
    "    # Append to n_delayed and n_flights\n",
    "    n_delayed.append(count_delayed(df))\n",
    "    n_flights.append(count_flights(df))\n",
    "\n",
    "# Call pct_delayed with n_delayed and n_flights: result\n",
    "result = pct_delayed(n_delayed, n_flights)\n",
    "\n",
    "# Print the output of result.compute()\n",
    "print(result.compute())"
   ]
  },
  {
   "cell_type": "markdown",
   "metadata": {},
   "source": [
    "- Notice that no reading and no computation was done until the last line (result.compute()). In all the preceding lines, the functions called returned dask.delayed objects that deferred execution until the invocation of compute()."
   ]
  },
  {
   "cell_type": "markdown",
   "metadata": {},
   "source": [
    "### Subtracting & broadcasting\n",
    "- The one-dimensional array load_2001 holds the total electricity load for the state of Texas sampled every 15 minutes for the entire year 2001 (35040 samples in total). The one-dimensional array load_recent holds the corresponding data sampled for each of the years 2013 through 2015 (i.e., 105120 samples consisting of the samples from 2013, 2014, & 2015 in sequence). None of these years are leap years, so each year has 365 days. Observe also that there are 96 intervals of duration 15 minutes in each day.\n",
    "- compute the differences of the samples in the years 2013 to 2015 each from the corresponding samples of 2001."
   ]
  },
  {
   "cell_type": "code",
   "execution_count": 14,
   "metadata": {},
   "outputs": [
    {
     "name": "stdout",
     "output_type": "stream",
     "text": [
      "dataset name: <KeysViewHDF5 ['load']>\n"
     ]
    },
    {
     "data": {
      "text/plain": [
       "(35040,)"
      ]
     },
     "execution_count": 14,
     "metadata": {},
     "output_type": "execute_result"
    }
   ],
   "source": [
    "import numpy as np\n",
    "import h5py\n",
    "\n",
    "hf = h5py.File('../data/Texas/texas.2001.hdf5', 'r')\n",
    "print('dataset name:', hf.keys())\n",
    "load_2001 = np.array(hf[\"load\"][:]) #dataset_name is same as hdf5 object name \n",
    "load_2001.shape"
   ]
  },
  {
   "cell_type": "code",
   "execution_count": 15,
   "metadata": {},
   "outputs": [
    {
     "name": "stdout",
     "output_type": "stream",
     "text": [
      "dataset name: <KeysViewHDF5 ['load']>\n"
     ]
    },
    {
     "data": {
      "text/plain": [
       "(105120,)"
      ]
     },
     "execution_count": 15,
     "metadata": {},
     "output_type": "execute_result"
    }
   ],
   "source": [
    "hf = h5py.File('../data/Texas/texas.2013.hdf5', 'r')\n",
    "hf_14 = h5py.File('../data/Texas/texas.2014.hdf5', 'r')\n",
    "hf_15 = h5py.File('../data/Texas/texas.2015.hdf5', 'r')\n",
    "print('dataset name:', hf.keys())\n",
    "load_2013 = np.array(hf[\"load\"][:]) #dataset_name is same as hdf5 object name \n",
    "load_2014 = np.array(hf_14[\"load\"][:])\n",
    "load_2015 = np.array(hf_15[\"load\"][:])\n",
    "load_recent = np.hstack([load_2013,load_2014,load_2015])\n",
    "load_recent.shape"
   ]
  },
  {
   "cell_type": "code",
   "execution_count": 16,
   "metadata": {},
   "outputs": [
    {
     "name": "stdout",
     "output_type": "stream",
     "text": [
      "[-1153.309    22.598   -17.925]\n"
     ]
    }
   ],
   "source": [
    "# Reshape load_recent to three dimensions: load_recent_3d\n",
    "load_recent_3d = load_recent.reshape((3,365,96))\n",
    "\n",
    "# Reshape load_2001 to three dimensions: load_2001_3d\n",
    "load_2001_3d = load_2001.reshape((1,365,96))\n",
    "\n",
    "# Subtract the load in 2001 from the load in 2013 - 2015: diff_3d\n",
    "diff_3d = load_recent_3d - load_2001_3d\n",
    "\n",
    "# Print the difference each year on March 2 at noon\n",
    "print(diff_3d[:, 61, 48])"
   ]
  },
  {
   "cell_type": "markdown",
   "metadata": {},
   "source": [
    "### Computing aggregations\n",
    "- compute summary statistics by aggregating NumPy arrays across various dimensions (in this case, giving trends in electricity usage).\n",
    "- `load_recent_3d` contains the electricity load (in kWh) sampled every 15 minutes from the start of 2013 to the end of 2015. The possible index values of the three-dimensional array correspond to year (from 0 to 2), day (from 0 to 364), and 15-minute interval (from 0 to 95); remember, NumPy arrays are indexed from zero. Thus, load_recent_3d[0,1,2] is the electricity load consumed on January 2nd, 2013 from 00:30:00 AM to 00:45:00 AM.\n"
   ]
  },
  {
   "cell_type": "code",
   "execution_count": 17,
   "metadata": {},
   "outputs": [
    {
     "name": "stdout",
     "output_type": "stream",
     "text": [
      "5240.84666194825\n",
      "[6335.42  6336.159 6344.077]\n",
      "470184.43899999995\n"
     ]
    }
   ],
   "source": [
    "# Print mean value of load_recent_3d\n",
    "print(load_recent_3d.mean())\n",
    "\n",
    "# Print maximum of load_recent_3d across 2nd & 3rd dimensions\n",
    "print(load_recent_3d.max(axis=(1,2)))\n",
    "\n",
    "# Compute sum along last dimension of load_recent_3d: daily_consumption\n",
    "daily_consumption = load_recent_3d.sum(axis=-1)\n",
    "\n",
    "# Print mean of 62nd row of daily_consumption\n",
    "print(daily_consumption[:,61].mean())"
   ]
  },
  {
   "cell_type": "markdown",
   "metadata": {},
   "source": [
    "### Inspecting a large DataFrame\n",
    "\n",
    "### Building a pipeline of delayed tasks\n",
    "- filter the DataFrame for the 'East Asia & Pacific' region and measurements of the percent population exposed to toxic air pollution. The output of this effort is a delayed Dask DataFrame"
   ]
  },
  {
   "cell_type": "code",
   "execution_count": 21,
   "metadata": {},
   "outputs": [
    {
     "name": "stdout",
     "output_type": "stream",
     "text": [
      "(Delayed('int-452810a7-d4ca-463f-bc84-8952051466c4'), 7)\n"
     ]
    }
   ],
   "source": [
    "# Read from 'WDI.csv': df\n",
    "import dask.dataframe as dd\n",
    "\n",
    "df = dd.read_csv('../data/WDI/WDI.csv')\n",
    "\n",
    "# Boolean series where 'Indicator Code' is 'EN.ATM.PM25.MC.ZS': toxins\n",
    "toxins = df['Indicator Code'] == 'AG.PRD.LVSK.XD'\n",
    "# Boolean series where 'Region' is 'East Asia & Pacific': region\n",
    "region = df['Region'] == 'East Asia & Pacific'\n",
    "\n",
    "# Filter the DataFrame using toxins & region: filtered\n",
    "filtered = df.loc[toxins & region]\n",
    "print(filtered.shape)"
   ]
  },
  {
   "cell_type": "markdown",
   "metadata": {},
   "source": [
    "### Grouping & aggregating by year\n",
    "-  plot the average percent of the population exposed to air pollution in the East Asia & Pacific region from 2010 to 2015.\n",
    "- use .groupby() to collect all of the individual country values by the 'Year' column and aggregate with the mean() function. Then call .compute() to perform the computation in parallel, and finally plot the results."
   ]
  },
  {
   "cell_type": "code",
   "execution_count": 22,
   "metadata": {},
   "outputs": [
    {
     "data": {
      "image/png": "[encoded data removed]",
      "text/plain": [
       "<Figure size 432x288 with 1 Axes>"
      ]
     },
     "metadata": {
      "needs_background": "light"
     },
     "output_type": "display_data"
    }
   ],
   "source": [
    "# Grouby filtered by the 'Year' column: yearly\n",
    "yearly = filtered.groupby('Year')\n",
    "\n",
    "# Calculate the mean of yearly: yearly_mean\n",
    "yearly_mean = yearly.mean()\n",
    "\n",
    "# Call .compute() to perform the computation: result\n",
    "result = yearly_mean.compute()\n",
    "\n",
    "# Plot the 'value' column with .plot.line()\n",
    "result['value'].plot.line()\n",
    "plt.ylabel('% pop exposed')\n",
    "plt.show()"
   ]
  },
  {
   "cell_type": "markdown",
   "metadata": {},
   "source": [
    "### Preparing the pipeline"
   ]
  },
  {
   "cell_type": "code",
   "execution_count": 23,
   "metadata": {},
   "outputs": [],
   "source": [
    "# Define a function with df as input: by_region\n",
    "def by_region(df):\n",
    "\n",
    "    # Create the toxins array\n",
    "    toxins = df['Indicator Code'] == 'AG.PRD.LVSK.XD'\n",
    "\n",
    "    # Create the y2015 array\n",
    "    y2015 = df['Year'] == 2015\n",
    "\n",
    "    # Filter the DataFrame and group by the 'Region' column\n",
    "    regions = df[toxins & y2015].groupby('Region')\n",
    "\n",
    "    # Return the mean of the 'value' column of regions\n",
    "    return regions['value'].mean()\n"
   ]
  },
  {
   "cell_type": "markdown",
   "metadata": {},
   "source": [
    "#### Comparing Dask & pandas execution times\n",
    "- The function can be used with either Dask or Pandas DataFrames. The only difference is that after the function is run on a Dask DataFrame, .compute() must be called on the result to perform the computation."
   ]
  },
  {
   "cell_type": "code",
   "execution_count": 25,
   "metadata": {},
   "outputs": [
    {
     "name": "stdout",
     "output_type": "stream",
     "text": [
      "207.08274841308594\n"
     ]
    }
   ],
   "source": [
    "# Call time.time()\n",
    "import time \n",
    "\n",
    "t0 = time.time()\n",
    "\n",
    "# Read 'WDI.csv' into df\n",
    "df = pd.read_csv('../data/WDI/WDI.csv')\n",
    "\n",
    "# Group df by region: result\n",
    "result = df.groupby('Region')\n",
    "\n",
    "r = by_region(df)\n",
    "\n",
    "# Call time.time()\n",
    "t1 = time.time()\n",
    "\n",
    "# Print the execution time\n",
    "print((t1-t0)*1000)"
   ]
  },
  {
   "cell_type": "code",
   "execution_count": 27,
   "metadata": {},
   "outputs": [
    {
     "name": "stdout",
     "output_type": "stream",
     "text": [
      "11.494159698486328\n"
     ]
    }
   ],
   "source": [
    "# Time the execution of just by_region with Pandas and print in milliseconds\n",
    "df = pd.read_csv('../data/WDI/WDI.csv')\n",
    "t0 = time.time()\n",
    "result = by_region(df)\n",
    "t1 = time.time()\n",
    "print((t1-t0)*1000)"
   ]
  },
  {
   "cell_type": "code",
   "execution_count": 29,
   "metadata": {},
   "outputs": [
    {
     "name": "stdout",
     "output_type": "stream",
     "text": [
      "36.011695861816406\n"
     ]
    }
   ],
   "source": [
    "# Time the execution of dd.read_csv and by_region together with 'WDI.csv' and print in milliseconds\n",
    "t0 = time.time()\n",
    "df = dd.read_csv('../data/WDI/WDI.csv')\n",
    "result = by_region(df)\n",
    "t1 = time.time()\n",
    "print((t1-t0)*1000)"
   ]
  },
  {
   "cell_type": "markdown",
   "metadata": {},
   "source": [
    "##### Conclusion : We can see that if the data set can be read into memory with `pandas` it is likely going to be faster than `Dask`, which needs to `read the file chunkwise throughout the pipeline` and does not cache intermediates in memory."
   ]
  },
  {
   "cell_type": "markdown",
   "metadata": {},
   "source": [
    "## Reading & cleaning files using Dask\n"
   ]
  },
  {
   "cell_type": "code",
   "execution_count": 2,
   "metadata": {},
   "outputs": [
    {
     "name": "stderr",
     "output_type": "stream",
     "text": [
      "C:\\Users\\Shubham\\Anaconda3\\lib\\site-packages\\dask\\config.py:168: YAMLLoadWarning: calling yaml.load() without Loader=... is deprecated, as the default Loader is unsafe. Please read https://msg.pyyaml.org/load for full details.\n",
      "  data = yaml.load(f.read()) or {}\n"
     ]
    }
   ],
   "source": [
    "import dask.dataframe as dd\n",
    "\n",
    "# Read all .csv files: df\n",
    "df = dd.read_csv('../data/nyctaxi/*.csv', assume_missing=True)\n",
    "\n",
    "# Make column 'tip_fraction'\n",
    "df['tip_fraction'] = df['tip_amount'] / (df['total_amount'] - df['tip_amount'])\n",
    "\n",
    "# Convert 'tpep_dropoff_datetime' column to datetime objects\n",
    "df['tpep_dropoff_datetime'] = dd.to_datetime(df['tpep_dropoff_datetime'])\n",
    "\n",
    "# Construct column 'hour'\n",
    "df['hour'] = df.tpep_dropoff_datetime.dt.hour"
   ]
  },
  {
   "cell_type": "markdown",
   "metadata": {},
   "source": [
    "### Filtering & grouping data\n",
    "- task now is to `build a pipeline of computations` to compute the hourly average tip fraction for each hour of the day across the entire year of data. We'll have to filter for payments of type 1 (credit card transactions) from the 'payment_type' column, group transactions using the 'hour' column, and finally aggregate the mean from the 'tip_fraction' column."
   ]
  },
  {
   "cell_type": "code",
   "execution_count": 3,
   "metadata": {},
   "outputs": [
    {
     "name": "stdout",
     "output_type": "stream",
     "text": [
      "<class 'dask.dataframe.core.Series'>\n"
     ]
    }
   ],
   "source": [
    "# Filter rows where payment_type == 1: credit\n",
    "credit = df[df['payment_type'] == 1]\n",
    "\n",
    "# Group by 'hour' column: hourly\n",
    "hourly = credit.groupby('hour')\n",
    "\n",
    "# Aggregate mean 'tip_fraction' and print its data type\n",
    "result = hourly['tip_fraction'].mean()\n",
    "print(type(result))"
   ]
  },
  {
   "cell_type": "markdown",
   "metadata": {},
   "source": [
    "### Computing & plotting\n",
    "- Now that we've got the entire delayed pipeline prepared it's time to `compute` and plot the result."
   ]
  },
  {
   "cell_type": "code",
   "execution_count": 4,
   "metadata": {},
   "outputs": [
    {
     "name": "stdout",
     "output_type": "stream",
     "text": [
      "<class 'pandas.core.series.Series'>\n"
     ]
    },
    {
     "data": {
      "image/png": "[encoded data removed]",
      "text/plain": [
       "<Figure size 432x288 with 1 Axes>"
      ]
     },
     "metadata": {
      "needs_background": "light"
     },
     "output_type": "display_data"
    }
   ],
   "source": [
    "# Perform the computation\n",
    "tip_frac = result.compute()\n",
    "\n",
    "# Print the type of tip_frac\n",
    "print(type(tip_frac))\n",
    "\n",
    "# Generate a line plot using .plot.line()\n",
    "tip_frac.plot.line()\n",
    "plt.ylabel('Tip fraction')\n",
    "plt.show()"
   ]
  },
  {
   "cell_type": "markdown",
   "metadata": {},
   "source": [
    "##  Dask Bags\n",
    "### Reading & counting"
   ]
  },
  {
   "cell_type": "code",
   "execution_count": 4,
   "metadata": {},
   "outputs": [
    {
     "name": "stdout",
     "output_type": "stream",
     "text": [
      "237\n"
     ]
    }
   ],
   "source": [
    "import dask.bag as db\n",
    "\n",
    "# Glob filenames matching 'sotu/*.txt' and sort\n",
    "filenames = glob.glob('../data/sotu/*.txt')\n",
    "filenames = sorted(filenames)\n",
    "\n",
    "# Load filenames as Dask bag with db.read_text(): speeches\n",
    "speeches = db.read_text(filenames)\n",
    "\n",
    "# Print number of speeches with .count()\n",
    "print(speeches.count().compute())"
   ]
  },
  {
   "cell_type": "markdown",
   "metadata": {},
   "source": [
    "- For large datasets, the `.take()` method is useful for inspecting data & data types while processing dask bags. The value returned by `.take(n)` is a tuple of the first n elements of the dask.bag."
   ]
  },
  {
   "cell_type": "code",
   "execution_count": 8,
   "metadata": {},
   "outputs": [
    {
     "name": "stdout",
     "output_type": "stream",
     "text": [
      "one element type: <class 'tuple'>\n",
      "<class 'str'>\n",
      " Fellow-Citizens of the Senate and House of Representatives:\n"
     ]
    }
   ],
   "source": [
    "# Call .take(1): one_element\n",
    "one_element = speeches.take(1)\n",
    "print('one element type:', type(one_element))\n",
    "\n",
    "# Extract first element of one_element: first_speech\n",
    "first_speech = one_element[0]\n",
    "\n",
    "# Print type of first_speech and first 60 characters\n",
    "print(type(first_speech))\n",
    "print(first_speech[:60])"
   ]
  },
  {
   "cell_type": "markdown",
   "metadata": {},
   "source": [
    "### Splitting by word & count"
   ]
  },
  {
   "cell_type": "code",
   "execution_count": 9,
   "metadata": {},
   "outputs": [
    {
     "name": "stdout",
     "output_type": "stream",
     "text": [
      "<class 'dask.bag.core.Item'>\n",
      "8239.084388185654\n"
     ]
    }
   ],
   "source": [
    "# Call .str.split(' ') from speeches and assign it to by_word\n",
    "by_word = speeches.str.split(' ')\n",
    "\n",
    "# Map the len function over by_word and compute its mean\n",
    "n_words = by_word.map(len)\n",
    "avg_words = n_words.mean()\n",
    "\n",
    "# Print the type of avg_words and value of avg_words.compute()\n",
    "print(type(avg_words))\n",
    "print(avg_words.compute())\n"
   ]
  },
  {
   "cell_type": "markdown",
   "metadata": {},
   "source": [
    "### Filtering on a phrase"
   ]
  },
  {
   "cell_type": "code",
   "execution_count": 10,
   "metadata": {},
   "outputs": [
    {
     "name": "stdout",
     "output_type": "stream",
     "text": [
      "47\n"
     ]
    }
   ],
   "source": [
    "# Convert speeches to lower case: lower\n",
    "lower = speeches.str.lower()\n",
    "\n",
    "# Filter lower for the presence of 'health care': health\n",
    "health = lower.filter(lambda s:'health care' in s)\n",
    "\n",
    "# Count the number of entries : n_health\n",
    "n_health = health.count()\n",
    "\n",
    "# Compute and print the value of n_health\n",
    "print(n_health.compute())"
   ]
  },
  {
   "cell_type": "markdown",
   "metadata": {},
   "source": [
    "### Delaying reading & cleaning\n",
    "- To work with this subset of the monthly flight information data efficiently, we'll need to do a bit of cleaning. Specifically, we'll need to replace zeros in the `'WEATHER_DELAY'` column with `nan`. This substitution will make counting delays much easier later. This operation requires us to build a delayed pipeline of pandas DataFrame manipulations\n",
    "- convert the output to a Dask DataFrame in which each file will be one chunk."
   ]
  },
  {
   "cell_type": "code",
   "execution_count": 7,
   "metadata": {},
   "outputs": [],
   "source": [
    "# Define @delayed-function read_flights\n",
    "@delayed\n",
    "def read_flights(filename):\n",
    "\n",
    "    # Read in the DataFrame: df\n",
    "    df = pd.read_csv(filename, parse_dates=['FL_DATE'])\n",
    "\n",
    "    # Replace 0s in df['WEATHER_DELAY'] with np.nan\n",
    "    df['WEATHER_DELAY'] = df['WEATHER_DELAY'].replace(0, np.nan)\n",
    "\n",
    "    # Return df\n",
    "    return df"
   ]
  },
  {
   "cell_type": "markdown",
   "metadata": {},
   "source": [
    "##### function read_flights returns a delayed object that corresponds to reading a DataFrame from disk and cleaning some of its entries."
   ]
  },
  {
   "cell_type": "markdown",
   "metadata": {},
   "source": [
    "### Reading all flight data\n",
    "- task now is to iterate over the files and to use the function `read_flights` to build a list of delayed objects. \n",
    "- **concatenate them into a `Dask DataFrame` with `dd.from_delayed()`** and print out the mean of the `WEATHER_DELAY` column."
   ]
  },
  {
   "cell_type": "code",
   "execution_count": 12,
   "metadata": {},
   "outputs": [
    {
     "name": "stdout",
     "output_type": "stream",
     "text": [
      "51.29467680608365\n"
     ]
    }
   ],
   "source": [
    "filenames = glob.glob('../data/flightdelays/*.csv')\n",
    "dataframes = []\n",
    "# Loop over filenames with index filename\n",
    "for filename in filenames:\n",
    "    # Apply read_flights to filename; append to dataframes\n",
    "    dataframes.append(read_flights(filename))\n",
    "\n",
    "# Compute flight delays: flight_delays\n",
    "flight_delays = dd.from_delayed(dataframes)\n",
    "\n",
    "# Print average of 'WEATHER_DELAY' column of flight_delays\n",
    "print(flight_delays['WEATHER_DELAY'].mean().compute())"
   ]
  },
  {
   "cell_type": "markdown",
   "metadata": {},
   "source": [
    "### Preparing weather data\n",
    "\n",
    "#### Deferring reading weather data\n",
    "- The ultimate goal is to correlate the flight delays with weather events from each day of 2016."
   ]
  },
  {
   "cell_type": "code",
   "execution_count": 13,
   "metadata": {},
   "outputs": [],
   "source": [
    "# Define @delayed-function read_weather with input filename\n",
    "@delayed\n",
    "def read_weather(filename):\n",
    "    # Read in filename: df\n",
    "    df = pd.read_csv(filename, parse_dates=['Date'])\n",
    "\n",
    "    # Clean 'PrecipitationIn'\n",
    "    df['PrecipitationIn'] = pd.to_numeric(df['PrecipitationIn'], errors='coerce')\n",
    "\n",
    "    # Create the 'Airport' column\n",
    "    df['Airport'] = filename.split('.')[0]\n",
    "\n",
    "    # Return df\n",
    "    return df"
   ]
  },
  {
   "cell_type": "markdown",
   "metadata": {},
   "source": [
    "##### The function read_weather returns a delayed object that yields a Pandas DataFrame when executed."
   ]
  },
  {
   "cell_type": "markdown",
   "metadata": {},
   "source": [
    "### Building a weather DataFrame"
   ]
  },
  {
   "cell_type": "code",
   "execution_count": 17,
   "metadata": {
    "scrolled": false
   },
   "outputs": [
    {
     "name": "stdout",
     "output_type": "stream",
     "text": [
      "          Date  Max TemperatureF  Mean TemperatureF  Min TemperatureF  \\\n",
      "224 2016-08-12               107                 93                79   \n",
      "\n",
      "     Max Dew PointF  MeanDew PointF  Min DewpointF  Max Humidity  \\\n",
      "224              75              71             66            79   \n",
      "\n",
      "     Mean Humidity  Min Humidity  ...  Mean VisibilityMiles  \\\n",
      "224             53            27  ...                     8   \n",
      "\n",
      "     Min VisibilityMiles  Max Wind SpeedMPH  Mean Wind SpeedMPH  \\\n",
      "224                    0                 41                  10   \n",
      "\n",
      "     Max Gust SpeedMPH  PrecipitationIn  CloudCover             Events  \\\n",
      "224               54.0             0.82           5  Rain-Thunderstorm   \n",
      "\n",
      "     WindDirDegrees  Airport  \n",
      "224             214           \n",
      "\n",
      "[1 rows x 24 columns]\n"
     ]
    }
   ],
   "source": [
    "weather_dfs = []\n",
    "filenames = glob.glob('../data/weatherdata/*.csv')\n",
    "filenames = [file for file in filenames if '2016' not in file]                      \n",
    "\n",
    "# Loop over filenames with filename\n",
    "for filename in filenames:\n",
    "    # Invoke read_weather on filename; append result to weather_dfs\n",
    "    weather_dfs.append(read_weather(filename))\n",
    "\n",
    "# Call dd.from_delayed() with weather_dfs: weather\n",
    "weather = dd.from_delayed(weather_dfs)\n",
    "\n",
    "# Print result of weather.nlargest(1, 'Max TemperatureF')\n",
    "print(weather.nlargest(1, 'Max TemperatureF').compute())"
   ]
  },
  {
   "cell_type": "markdown",
   "metadata": {},
   "source": [
    "### Which city gets the most snow?\n",
    "- aggregate the total snow fall for each airport (at least those airports that experienced snow)."
   ]
  },
  {
   "cell_type": "code",
   "execution_count": 18,
   "metadata": {},
   "outputs": [
    {
     "name": "stdout",
     "output_type": "stream",
     "text": [
      "Airport\n",
      "    11.44\n",
      "Name: PrecipitationIn, dtype: float64\n"
     ]
    }
   ],
   "source": [
    "# Make cleaned Boolean Series from weather['Events']: is_snowy\n",
    "is_snowy = weather['Events'].str.contains('Snow').fillna(False)\n",
    "\n",
    "# Create filtered DataFrame with weather.loc & is_snowy: got_snow\n",
    "got_snow = weather.loc[is_snowy]\n",
    "\n",
    "# Groupby 'Airport' column; select 'PrecipitationIn'; aggregate sum(): result\n",
    "result = got_snow.groupby('Airport')['PrecipitationIn'].sum()\n",
    "\n",
    "# Compute & print the value of result\n",
    "print(result.compute())"
   ]
  },
  {
   "cell_type": "markdown",
   "metadata": {},
   "source": [
    "### Merge flight_delays and weather"
   ]
  },
  {
   "cell_type": "code",
   "execution_count": 31,
   "metadata": {},
   "outputs": [],
   "source": [
    "weather_delays = flight_delays.merge(weather, left_on=['FL_DATE'], right_on=['Date'], how='inner')\n",
    "weather_delays = weather_delays[['FL_DATE','ORIGIN','WEATHER_DELAY','Date','Events','Airport']]"
   ]
  },
  {
   "cell_type": "markdown",
   "metadata": {},
   "source": [
    "### Persisting merged DataFrame\n",
    "- If our data can fit into memory, either on a workstation or a cluster, persisting the Dask DataFrame with the `.persist()` method can be useful. In particular, persisting DataFrames can provide significant speed-up because the time-consuming work of reading from disk is performed only once."
   ]
  },
  {
   "cell_type": "code",
   "execution_count": 34,
   "metadata": {},
   "outputs": [
    {
     "name": "stdout",
     "output_type": "stream",
     "text": [
      "0.8039985937667181\n",
      "time-> 20664.28232192993\n",
      "0.8039985937667181\n",
      "time-> 20.10512351989746\n"
     ]
    }
   ],
   "source": [
    "def percent_delayed(df):\n",
    "    return (df['WEATHER_DELAY'].count() / len(df)) * 100\n",
    "\n",
    "# Print time in milliseconds to compute percent_delayed on weather_delays\n",
    "t_start = time.time()\n",
    "print(percent_delayed(weather_delays).compute())\n",
    "t_end = time.time()\n",
    "print('time->',(t_end-t_start)*1000)\n",
    "\n",
    "# Call weather_delays.persist(): persisted_weather_delays\n",
    "persisted_weather_delays = weather_delays.persist()\n",
    "\n",
    "# Print time in milliseconds to compute percent_delayed on persisted_weather_delays\n",
    "t_start = time.time()\n",
    "print(percent_delayed(persisted_weather_delays).compute())\n",
    "t_end = time.time()\n",
    "print('time->',(t_end-t_start)*1000)"
   ]
  },
  {
   "cell_type": "markdown",
   "metadata": {},
   "source": [
    "##### the computed percentage of flights was the same in both trials (about 1.45%), but that the execution time was less in the second attempt. This improvement is a result of persisting the DataFrame as expected."
   ]
  },
  {
   "cell_type": "markdown",
   "metadata": {},
   "source": [
    "### Finding sources of weather delays\n",
    "- use the persisted_weather_delays Dask DataFrame to determine the percentage of delayed flights per weather event.\n",
    "- compute the number of delayed flights by weather events and divide by the total number of flights. We'll then use `.nlargest(5)` to retrieve the five highest contributions to the number of delayed flights. Finally, we'll compute the average length of the delay for the 5 leading contributions."
   ]
  },
  {
   "cell_type": "code",
   "execution_count": 35,
   "metadata": {},
   "outputs": [
    {
     "name": "stdout",
     "output_type": "stream",
     "text": [
      "Events\n",
      "Rain-Thunderstorm    16.838675\n",
      "Rain                 15.279739\n",
      "Snow                  6.941879\n",
      "Fog-Snow              2.330255\n",
      "Rain-Snow             1.966323\n",
      "Name: WEATHER_DELAY, dtype: float64\n",
      "Events\n",
      "Fog-Rain-Thunderstorm    60.375000\n",
      "Thunderstorm             60.155738\n",
      "Fog                      56.908000\n",
      "Fog-Rain                 55.342593\n",
      "Fog-Snow                 53.533800\n",
      "Name: WEATHER_DELAY, dtype: float64\n"
     ]
    }
   ],
   "source": [
    "# Group persisted_weather_delays by 'Events': by_event\n",
    "by_event = persisted_weather_delays.groupby('Events')\n",
    "\n",
    "# Count 'by_event['WEATHER_DELAY'] column & divide by total number of delayed flights\n",
    "pct_delayed = by_event['WEATHER_DELAY'].count() / persisted_weather_delays['WEATHER_DELAY'].count() * 100\n",
    "\n",
    "# Compute & print five largest values of pct_delayed\n",
    "print(pct_delayed.nlargest(5).compute())\n",
    "\n",
    "# Calculate mean of by_event['WEATHER_DELAY'] column & return the 5 largest entries: avg_delay_time\n",
    "avg_delay_time = by_event['WEATHER_DELAY'].mean().nlargest(5)\n",
    "\n",
    "# Compute & print avg_delay_time\n",
    "print(avg_delay_time.compute())"
   ]
  }
 ],
 "metadata": {
  "kernelspec": {
   "display_name": "Python 3",
   "language": "python",
   "name": "python3"
  },
  "language_info": {
   "codemirror_mode": {
    "name": "ipython",
    "version": 3
   },
   "file_extension": ".py",
   "mimetype": "text/x-python",
   "name": "python",
   "nbconvert_exporter": "python",
   "pygments_lexer": "ipython3",
   "version": "3.7.3"
  }
 },
 "nbformat": 4,
 "nbformat_minor": 2
}
