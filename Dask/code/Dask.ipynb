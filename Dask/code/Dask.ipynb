{
 "cells": [
  {
   "cell_type": "markdown",
   "metadata": {},
   "source": [
    "### How big is my DataFrame?\n",
    "`df.info()` , `df.memory_usage()`"
   ]
  },
  {
   "cell_type": "markdown",
   "metadata": {},
   "source": [
    "### NumPy transformations\n",
    "- Many NumPy transformations, while fast, use one or more temporary arrays. Therefore, those transformations require more storage than the original array required.\n",
    "- The function memory_footprint() has been provided to return the total amount of memory (in megabytes or MB) currently in use by our program. This function uses the psutil and os modules."
   ]
  },
  {
   "cell_type": "code",
   "execution_count": 2,
   "metadata": {},
   "outputs": [],
   "source": [
    "import numpy as np\n",
    "import psutil, os\n",
    "\n",
    "def memory_footprint():\n",
    "    '''Returns memory (in MB) being used by Python process'''\n",
    "    mem = psutil.Process(os.getpid()).memory_info().rss\n",
    "    return (mem / 1024 **2)"
   ]
  },
  {
   "cell_type": "code",
   "execution_count": 4,
   "metadata": {},
   "outputs": [
    {
     "name": "stdout",
     "output_type": "stream",
     "text": [
      "50.0\n",
      "50.09375\n"
     ]
    }
   ],
   "source": [
    "N = (1024 **2) //8 # number of floats that fill 1 MB\n",
    "celsius = np.random.randn(50 * N) # Random array filling 50MB\n",
    "\n",
    "# Print the size in MB of the celsius array\n",
    "print(celsius.nbytes / 1024**2)\n",
    "\n",
    "# Call memory_footprint(): before\n",
    "before = memory_footprint()\n",
    "\n",
    "# Convert celsius by multiplying by 9/5 and adding 32: fahrenheit\n",
    "fahrenheit = celsius * 9/5 + 32\n",
    "\n",
    "# Call memory_footprint(): after\n",
    "after = memory_footprint()\n",
    "\n",
    "# Print the difference between after and before\n",
    "print(after - before)"
   ]
  },
  {
   "cell_type": "markdown",
   "metadata": {},
   "source": [
    "### Building a pipeline with delayed\n",
    "- If we use `dask.delayed`, we don't need to use generators; the dask scheduler will manage memory usage.\n",
    "- **Task** : define three decorated functions to complete the pipeline: a function to total the number of flights, a function to count the number of delayed flights, and a function to aggregate the results."
   ]
  },
  {
   "cell_type": "code",
   "execution_count": 1,
   "metadata": {},
   "outputs": [],
   "source": [
    "from dask import delayed\n"
   ]
  },
  {
   "cell_type": "code",
   "execution_count": 2,
   "metadata": {},
   "outputs": [],
   "source": [
    "# Define count_flights\n",
    "@delayed\n",
    "def count_flights(df):\n",
    "    return len(df)\n",
    "\n",
    "# Define count_delayed\n",
    "@delayed\n",
    "def count_delayed(df):\n",
    "    return (df['DEP_DELAY']>0).sum()\n",
    "\n",
    "# Define pct_delayed\n",
    "@delayed\n",
    "def pct_delayed(n_delayed, n_flights):\n",
    "    return 100 * sum(n_delayed) / sum(n_flights)"
   ]
  },
  {
   "cell_type": "markdown",
   "metadata": {},
   "source": [
    "- These functions constitute the pieces of the pipeline for our flight-delay analysis"
   ]
  },
  {
   "cell_type": "markdown",
   "metadata": {},
   "source": [
    "### Computing pipelined results\n",
    "- Now that the dask.delayed functions are defined, we can use them to construct the pipeline of delayed tasks.\n",
    "-  loop over the file names, store the temporary information in lists, and aggregate the final result.\n",
    "- The distinction here is that we are working with `dask.delayed` functions and objects, not real, computed values. The computation will only be executed when we call `.compute()` on the final result."
   ]
  },
  {
   "cell_type": "code",
   "execution_count": null,
   "metadata": {},
   "outputs": [],
   "source": [
    "filenames = "
   ]
  }
 ],
 "metadata": {
  "kernelspec": {
   "display_name": "Python 3",
   "language": "python",
   "name": "python3"
  },
  "language_info": {
   "codemirror_mode": {
    "name": "ipython",
    "version": 3
   },
   "file_extension": ".py",
   "mimetype": "text/x-python",
   "name": "python",
   "nbconvert_exporter": "python",
   "pygments_lexer": "ipython3",
   "version": "3.7.3"
  }
 },
 "nbformat": 4,
 "nbformat_minor": 2
}
